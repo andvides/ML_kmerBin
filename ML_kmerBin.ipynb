{
  "cells": [
    {
      "cell_type": "markdown",
      "metadata": {
        "id": "view-in-github",
        "colab_type": "text"
      },
      "source": [
        "<a href=\"https://colab.research.google.com/github/andvides/ML_kmerBin/blob/main/ML_kmerBin.ipynb\" target=\"_parent\"><img src=\"https://colab.research.google.com/assets/colab-badge.svg\" alt=\"Open In Colab\"/></a>"
      ]
    },
    {
      "cell_type": "code",
      "execution_count": 8,
      "metadata": {
        "id": "hr9MJBYlh0sm"
      },
      "outputs": [],
      "source": [
        "CAMI_dataset='4mers_table_low.csv';\n",
        "test_size=0.2;\n",
        "colores=['lightblue','coral','lightcoral','lightgreen']"
      ]
    },
    {
      "cell_type": "markdown",
      "metadata": {
        "id": "AQUbFLnA-OtO"
      },
      "source": [
        "\n",
        "# **cami_dataset**\n"
      ]
    },
    {
      "cell_type": "code",
      "execution_count": 15,
      "metadata": {
        "id": "3YJLr04CKI4a"
      },
      "outputs": [],
      "source": [
        "def namesGen():\n",
        "  names=[]\n",
        "  names.append('Seq_id')\n",
        "  for i in range(256):\n",
        "    name='Kmer_'+str(i)\n",
        "    names.append(name)\n",
        "  names.append('Tax_id')\n",
        "  return names"
      ]
    },
    {
      "cell_type": "code",
      "execution_count": 16,
      "metadata": {
        "id": "rUNtOZ-BNVUI"
      },
      "outputs": [],
      "source": [
        "def printInfo(df_input):\n",
        "  print(df_input.head())\n",
        "  print('...')\n",
        "  print(df_input.tail())\n",
        "  print(df_input.describe())\n",
        "  print(df_input.info())"
      ]
    },
    {
      "cell_type": "code",
      "execution_count": 17,
      "metadata": {
        "colab": {
          "base_uri": "https://localhost:8080/"
        },
        "id": "7OHJfEuELSxP",
        "outputId": "a03044ae-f41d-457a-e0eb-40794bbbe105"
      },
      "outputs": [
        {
          "output_type": "stream",
          "name": "stdout",
          "text": [
            "        Seq_id  Kmer_0  Kmer_1  Kmer_2  Kmer_3  Kmer_4  Kmer_5  Kmer_6  \\\n",
            "0     RL|S1|C0       0       0       0       0       1       0       2   \n",
            "1     RL|S1|C1       7       7       7       6       3       4       3   \n",
            "2    RL|S1|C10       0       2       3       3       2       1       1   \n",
            "3   RL|S1|C100      14       9       6      15       5       5       6   \n",
            "4  RL|S1|C1000      13       6      10       6       5       8       7   \n",
            "\n",
            "   Kmer_7  Kmer_8  ...  Kmer_247  Kmer_248  Kmer_249  Kmer_250  Kmer_251  \\\n",
            "0       2       8  ...         1         1         0         0         0   \n",
            "1       4       2  ...         8         5         4         1         3   \n",
            "2       3       1  ...         2         1         1         4         1   \n",
            "3       8       1  ...        13         8        11         6         8   \n",
            "4       5       7  ...         4         4        22         6         9   \n",
            "\n",
            "   Kmer_252  Kmer_253  Kmer_254  Kmer_255   Tax_id  \n",
            "0         0         0         0         0    75309  \n",
            "1         9         6         5         8   328515  \n",
            "2         0         6         1         1    29580  \n",
            "3        18        17         7        23  1004304  \n",
            "4         3         8         3         5    29580  \n",
            "\n",
            "[5 rows x 258 columns]\n",
            "...\n",
            "            Seq_id  Kmer_0  Kmer_1  Kmer_2  Kmer_3  Kmer_4  Kmer_5  Kmer_6  \\\n",
            "19460  RL|S1|C9995      38      14       7      23      10      15       4   \n",
            "19461  RL|S1|C9996       0       0       0       0       0       2       0   \n",
            "19462  RL|S1|C9997      17      10      10      12       8       9       3   \n",
            "19463  RL|S1|C9998      12       6       5      11       3       5       2   \n",
            "19464  RL|S1|C9999       2       2       4       0       0       2       3   \n",
            "\n",
            "       Kmer_7  Kmer_8  ...  Kmer_247  Kmer_248  Kmer_249  Kmer_250  Kmer_251  \\\n",
            "19460       7       2  ...         8         7        14         6         7   \n",
            "19461       0       1  ...         0         1         0         1         0   \n",
            "19462       3       7  ...         1         7         5         7         6   \n",
            "19463       2       1  ...         6         4         4         2         6   \n",
            "19464       1       3  ...         1         3         3         5         0   \n",
            "\n",
            "       Kmer_252  Kmer_253  Kmer_254  Kmer_255   Tax_id  \n",
            "19460        17         9        10        24  1004304  \n",
            "19461         0         0         0         0    75309  \n",
            "19462        15         7         9        11  1004304  \n",
            "19463         5         3         8        12  1004304  \n",
            "19464         0         3         1         0    75309  \n",
            "\n",
            "[5 rows x 258 columns]\n",
            "             Kmer_0        Kmer_1        Kmer_2        Kmer_3       Kmer_4  \\\n",
            "count  19465.000000  19465.000000  19465.000000  19465.000000  19465.00000   \n",
            "mean      66.689597     30.288312     38.936912     50.480503     32.82877   \n",
            "std      421.081179    189.981150    223.547834    307.723547    198.20216   \n",
            "min        0.000000      0.000000      0.000000      0.000000      0.00000   \n",
            "25%        0.000000      1.000000      1.000000      1.000000      1.00000   \n",
            "50%        6.000000      3.000000      3.000000      5.000000      4.00000   \n",
            "75%       21.000000     10.000000     11.000000     17.000000     10.00000   \n",
            "max    11403.000000   5978.000000   6136.000000   8540.000000   5928.00000   \n",
            "\n",
            "             Kmer_5        Kmer_6        Kmer_7        Kmer_8        Kmer_9  \\\n",
            "count  19465.000000  19465.000000  19465.000000  19465.000000  19465.000000   \n",
            "mean      25.209761     24.056255     24.304547     35.442435     34.849782   \n",
            "std      146.042279    180.018928    132.409384    209.173049    199.089004   \n",
            "min        0.000000      0.000000      0.000000      0.000000      0.000000   \n",
            "25%        1.000000      1.000000      1.000000      1.000000      1.000000   \n",
            "50%        3.000000      2.000000      3.000000      3.000000      3.000000   \n",
            "75%        7.000000      6.000000      9.000000     10.000000      9.000000   \n",
            "max     4250.000000   7200.000000   3718.000000   7626.000000   5977.000000   \n",
            "\n",
            "       ...      Kmer_247      Kmer_248      Kmer_249      Kmer_250  \\\n",
            "count  ...  19465.000000  19465.000000  19465.000000  19465.000000   \n",
            "mean   ...     35.805035     35.735577     37.354688     27.269201   \n",
            "std    ...    195.205404    226.384122    208.466319    153.971614   \n",
            "min    ...      0.000000      0.000000      0.000000      0.000000   \n",
            "25%    ...      1.000000      1.000000      1.000000      1.000000   \n",
            "50%    ...      3.000000      3.000000      4.000000      3.000000   \n",
            "75%    ...     11.000000     11.000000     11.000000      8.000000   \n",
            "max    ...   6078.000000   8444.000000   5738.000000   3527.000000   \n",
            "\n",
            "           Kmer_251      Kmer_252      Kmer_253      Kmer_254      Kmer_255  \\\n",
            "count  19465.000000  19465.000000  19465.000000  19465.000000  19465.000000   \n",
            "mean      30.044490     43.355459     42.050706     36.113126     67.947290   \n",
            "std      179.548287    275.934465    241.175363    221.354666    429.377636   \n",
            "min        0.000000      0.000000      0.000000      0.000000      0.000000   \n",
            "25%        1.000000      0.000000      1.000000      1.000000      0.000000   \n",
            "50%        3.000000      4.000000      4.000000      4.000000      6.000000   \n",
            "75%       10.000000     15.000000     12.000000     12.000000     22.000000   \n",
            "max     4960.000000   7825.000000   7415.000000   6041.000000  11756.000000   \n",
            "\n",
            "             Tax_id  \n",
            "count  1.946500e+04  \n",
            "mean   5.003663e+05  \n",
            "std    4.724470e+05  \n",
            "min    2.660000e+02  \n",
            "25%    7.530900e+04  \n",
            "50%    3.285150e+05  \n",
            "75%    1.004304e+06  \n",
            "max    1.123349e+06  \n",
            "\n",
            "[8 rows x 257 columns]\n",
            "<class 'pandas.core.frame.DataFrame'>\n",
            "RangeIndex: 19465 entries, 0 to 19464\n",
            "Columns: 258 entries, Seq_id to Tax_id\n",
            "dtypes: int64(257), object(1)\n",
            "memory usage: 38.3+ MB\n",
            "None\n"
          ]
        }
      ],
      "source": [
        "import pandas as pd\n",
        "import collections\n",
        "import sys\n",
        "import time\n",
        "import numpy as np\n",
        "import matplotlib.pyplot as plt\n",
        "names=namesGen()\n",
        "df = pd.read_csv(CAMI_dataset,names=names)\n",
        "printInfo(df)"
      ]
    },
    {
      "cell_type": "markdown",
      "metadata": {
        "id": "C6IkTZI7GsOp"
      },
      "source": [
        "# **Normalización**"
      ]
    },
    {
      "cell_type": "code",
      "execution_count": 18,
      "metadata": {
        "colab": {
          "base_uri": "https://localhost:8080/"
        },
        "id": "dHchUVC8Msh0",
        "outputId": "0500b3be-87d2-42bc-bac2-a0efe6dcd031"
      },
      "outputs": [
        {
          "output_type": "stream",
          "name": "stdout",
          "text": [
            "{75309: 1, 328515: 2, 29580: 3, 1004304: 4, 266: 5, 1120996: 6, 404881: 7, 1121301: 8, 1121884: 9, 1123349: 10, 1120989: 11, 644383: 12, 990712: 13, 2088: 14, 1123243: 15, 1122156: 16, 1123015: 17, 173053: 18, 2371: 19, 1122187: 20, 1385: 21, 1121393: 22, 1121885: 23, 1121001: 24, 2037: 25}\n",
            "        Seq_id  Tax_id    Kmer_0    Kmer_1    Kmer_2    Kmer_3    Kmer_4  \\\n",
            "0     RL|S1|C0       1  0.000000  0.000000  0.000000  0.000000  0.000169   \n",
            "1     RL|S1|C1       2  0.000614  0.001171  0.001141  0.000703  0.000506   \n",
            "2    RL|S1|C10       3  0.000000  0.000335  0.000489  0.000351  0.000337   \n",
            "3   RL|S1|C100       4  0.001228  0.001506  0.000978  0.001756  0.000843   \n",
            "4  RL|S1|C1000       3  0.001140  0.001004  0.001630  0.000703  0.000843   \n",
            "\n",
            "     Kmer_5    Kmer_6    Kmer_7  ...  Kmer_246  Kmer_247  Kmer_248  Kmer_249  \\\n",
            "0  0.000000  0.000278  0.000538  ...  0.000366  0.000165  0.000118  0.000000   \n",
            "1  0.000941  0.000417  0.001076  ...  0.000000  0.001316  0.000592  0.000697   \n",
            "2  0.000235  0.000139  0.000807  ...  0.000855  0.000329  0.000118  0.000174   \n",
            "3  0.001176  0.000833  0.002152  ...  0.000489  0.002139  0.000947  0.001917   \n",
            "4  0.001882  0.000972  0.001345  ...  0.000855  0.000658  0.000474  0.003834   \n",
            "\n",
            "   Kmer_250  Kmer_251  Kmer_252  Kmer_253  Kmer_254  Kmer_255  \n",
            "0  0.000000  0.000000  0.000000  0.000000  0.000000  0.000000  \n",
            "1  0.000284  0.000605  0.001150  0.000809  0.000828  0.000681  \n",
            "2  0.001134  0.000202  0.000000  0.000809  0.000166  0.000085  \n",
            "3  0.001701  0.001613  0.002300  0.002293  0.001159  0.001956  \n",
            "4  0.001701  0.001815  0.000383  0.001079  0.000497  0.000425  \n",
            "\n",
            "[5 rows x 258 columns]\n",
            "...\n",
            "            Seq_id  Tax_id    Kmer_0    Kmer_1    Kmer_2    Kmer_3    Kmer_4  \\\n",
            "19460  RL|S1|C9995       4  0.003332  0.002342  0.001141  0.002693  0.001687   \n",
            "19461  RL|S1|C9996       1  0.000000  0.000000  0.000000  0.000000  0.000000   \n",
            "19462  RL|S1|C9997       4  0.001491  0.001673  0.001630  0.001405  0.001350   \n",
            "19463  RL|S1|C9998       4  0.001052  0.001004  0.000815  0.001288  0.000506   \n",
            "19464  RL|S1|C9999       1  0.000175  0.000335  0.000652  0.000000  0.000000   \n",
            "\n",
            "         Kmer_5    Kmer_6    Kmer_7  ...  Kmer_246  Kmer_247  Kmer_248  \\\n",
            "19460  0.003529  0.000556  0.001883  ...  0.000366  0.001316  0.000829   \n",
            "19461  0.000471  0.000000  0.000000  ...  0.000244  0.000000  0.000118   \n",
            "19462  0.002118  0.000417  0.000807  ...  0.000000  0.000165  0.000829   \n",
            "19463  0.001176  0.000278  0.000538  ...  0.000489  0.000987  0.000474   \n",
            "19464  0.000471  0.000417  0.000269  ...  0.000611  0.000165  0.000355   \n",
            "\n",
            "       Kmer_249  Kmer_250  Kmer_251  Kmer_252  Kmer_253  Kmer_254  Kmer_255  \n",
            "19460  0.002440  0.001701  0.001411  0.002173  0.001214  0.001655  0.002042  \n",
            "19461  0.000000  0.000284  0.000000  0.000000  0.000000  0.000000  0.000000  \n",
            "19462  0.000871  0.001985  0.001210  0.001917  0.000944  0.001490  0.000936  \n",
            "19463  0.000697  0.000567  0.001210  0.000639  0.000405  0.001324  0.001021  \n",
            "19464  0.000523  0.001418  0.000000  0.000000  0.000405  0.000166  0.000000  \n",
            "\n",
            "[5 rows x 258 columns]\n",
            "             Tax_id        Kmer_0        Kmer_1        Kmer_2        Kmer_3  \\\n",
            "count  19465.000000  19465.000000  19465.000000  19465.000000  19465.000000   \n",
            "mean       4.049987      0.005848      0.005067      0.006346      0.005911   \n",
            "std        4.036201      0.036927      0.031780      0.036432      0.036033   \n",
            "min        1.000000      0.000000      0.000000      0.000000      0.000000   \n",
            "25%        1.000000      0.000000      0.000167      0.000163      0.000117   \n",
            "50%        3.000000      0.000526      0.000502      0.000489      0.000585   \n",
            "75%        4.000000      0.001842      0.001673      0.001793      0.001991   \n",
            "max       25.000000      1.000000      1.000000      1.000000      1.000000   \n",
            "\n",
            "             Kmer_4        Kmer_5        Kmer_6        Kmer_7        Kmer_8  \\\n",
            "count  19465.000000  19465.000000  19465.000000  19465.000000  19465.000000   \n",
            "mean       0.005538      0.005932      0.003341      0.006537      0.004648   \n",
            "std        0.033435      0.034363      0.025003      0.035613      0.027429   \n",
            "min        0.000000      0.000000      0.000000      0.000000      0.000000   \n",
            "25%        0.000169      0.000235      0.000139      0.000269      0.000131   \n",
            "50%        0.000675      0.000706      0.000278      0.000807      0.000393   \n",
            "75%        0.001687      0.001647      0.000833      0.002421      0.001311   \n",
            "max        1.000000      1.000000      1.000000      1.000000      1.000000   \n",
            "\n",
            "       ...      Kmer_246      Kmer_247      Kmer_248      Kmer_249  \\\n",
            "count  ...  19465.000000  19465.000000  19465.000000  19465.000000   \n",
            "mean   ...      0.003846      0.005891      0.004232      0.006510   \n",
            "std    ...      0.028343      0.032117      0.026810      0.036331   \n",
            "min    ...      0.000000      0.000000      0.000000      0.000000   \n",
            "25%    ...      0.000122      0.000165      0.000118      0.000174   \n",
            "50%    ...      0.000366      0.000494      0.000355      0.000697   \n",
            "75%    ...      0.000855      0.001810      0.001303      0.001917   \n",
            "max    ...      1.000000      1.000000      1.000000      1.000000   \n",
            "\n",
            "           Kmer_250      Kmer_251      Kmer_252      Kmer_253      Kmer_254  \\\n",
            "count  19465.000000  19465.000000  19465.000000  19465.000000  19465.000000   \n",
            "mean       0.007732      0.006057      0.005541      0.005671      0.005978   \n",
            "std        0.043655      0.036199      0.035263      0.032525      0.036642   \n",
            "min        0.000000      0.000000      0.000000      0.000000      0.000000   \n",
            "25%        0.000284      0.000202      0.000000      0.000135      0.000166   \n",
            "50%        0.000851      0.000605      0.000511      0.000539      0.000662   \n",
            "75%        0.002268      0.002016      0.001917      0.001618      0.001986   \n",
            "max        1.000000      1.000000      1.000000      1.000000      1.000000   \n",
            "\n",
            "           Kmer_255  \n",
            "count  19465.000000  \n",
            "mean       0.005780  \n",
            "std        0.036524  \n",
            "min        0.000000  \n",
            "25%        0.000000  \n",
            "50%        0.000510  \n",
            "75%        0.001871  \n",
            "max        1.000000  \n",
            "\n",
            "[8 rows x 257 columns]\n",
            "<class 'pandas.core.frame.DataFrame'>\n",
            "RangeIndex: 19465 entries, 0 to 19464\n",
            "Columns: 258 entries, Seq_id to Kmer_255\n",
            "dtypes: float64(256), int64(1), object(1)\n",
            "memory usage: 38.3+ MB\n",
            "None\n"
          ]
        }
      ],
      "source": [
        "from sklearn import preprocessing\n",
        "from sklearn.preprocessing import MinMaxScaler\n",
        "#Tax_id to class number \n",
        "i=1\n",
        "finalClass={}\n",
        "numClass=len(df['Tax_id'].unique())\n",
        "for items in df['Tax_id'].unique():\n",
        "  finalClass[items]=i\n",
        "  i+=1\n",
        "print(finalClass)\n",
        "for values in finalClass:\n",
        "  df['Tax_id'] = df['Tax_id'].replace([values],finalClass[values])\n",
        "\n",
        "#Normalizing numeric features and converting back to dataframe\n",
        "numeric_feats= names[1:-1]\n",
        "df_categ_feats = df.drop(columns = numeric_feats)\n",
        "df_numeric_feats = pd.DataFrame(df, columns = numeric_feats)\n",
        "min_max_scaler = preprocessing.MinMaxScaler()\n",
        "normalized_numeric_feats = min_max_scaler.fit_transform(df_numeric_feats)\n",
        "normalized_numeric_feats = pd.DataFrame(normalized_numeric_feats, columns = numeric_feats, index=df_categ_feats.index)\n",
        "df_numeric_norm = pd.concat([df_categ_feats, normalized_numeric_feats], axis=1)\n",
        "printInfo(df_numeric_norm)"
      ]
    },
    {
      "cell_type": "code",
      "execution_count": 19,
      "metadata": {
        "colab": {
          "base_uri": "https://localhost:8080/",
          "height": 0
        },
        "id": "RDyBdaYmPkdG",
        "outputId": "9e980927-a118-4c30-ea15-f070f39571b0"
      },
      "outputs": [
        {
          "output_type": "stream",
          "name": "stdout",
          "text": [
            "1     5347\n",
            "2     2488\n",
            "3     2946\n",
            "4     4188\n",
            "5      237\n",
            "6     1898\n",
            "7       23\n",
            "8      760\n",
            "9       56\n",
            "10     149\n",
            "11     340\n",
            "12      94\n",
            "13      27\n",
            "14     233\n",
            "15      25\n",
            "16      77\n",
            "17      84\n",
            "18      41\n",
            "19      72\n",
            "20      22\n",
            "21      87\n",
            "22     109\n",
            "23      69\n",
            "24      87\n",
            "25       6\n",
            "Name: Tax_id, dtype: int64\n"
          ]
        },
        {
          "output_type": "display_data",
          "data": {
            "text/plain": [
              "<Figure size 432x288 with 1 Axes>"
            ],
            "image/png": "[encoded data removed]"
          },
          "metadata": {
            "needs_background": "light"
          }
        }
      ],
      "source": [
        "import matplotlib.pyplot as plt\n",
        "import numpy as np\n",
        "print(df_numeric_norm['Tax_id'].value_counts().sort_index())\n",
        "ax=df_numeric_norm['Tax_id'].value_counts().plot(kind='bar')\n",
        "for p in ax.patches:\n",
        "  if p.get_height()>1400:\n",
        "    ax.annotate(str(int(p.get_height())), (p.get_x(), p.get_height()))\n",
        "\n",
        "plt.xticks(np.arange(0,310, step=15))\n",
        "plt.ylabel('Número de contigs')\n",
        "plt.xlabel('Etiqueta (Tax_id)')\n",
        "plt.grid()\n",
        "plt.tight_layout()\n",
        "#plt.savefig(\"cami_high_taxID_freq.png\", dpi=300)\n"
      ]
    },
    {
      "cell_type": "code",
      "execution_count": 20,
      "metadata": {
        "colab": {
          "base_uri": "https://localhost:8080/",
          "height": 0
        },
        "id": "IvlcFyUgVC8s",
        "outputId": "75ce2036-46c7-477c-d25e-f1a2a044e0ae"
      },
      "outputs": [
        {
          "output_type": "display_data",
          "data": {
            "text/plain": [
              "<Figure size 432x288 with 1 Axes>"
            ],
            "image/png": "[encoded data removed]"
          },
          "metadata": {
            "needs_background": "light"
          }
        }
      ],
      "source": [
        "import matplotlib.pyplot as plt\n",
        "i=0\n",
        "for (columnName, columnData) in df.iteritems(): \n",
        "  if(columnName.startswith('Kmer_')):\n",
        "    #print('Colunm Name : ', columnName) \n",
        "    plt.bar(i,color='darkcyan',height=df[columnName].mean(),width=2)\n",
        "    i+=1\n",
        "plt.ylabel('Promedio de ocurrencia')\n",
        "plt.xlabel('Kmer')\n",
        "plt.grid()\n",
        "plt.tight_layout()\n",
        "#plt.savefig(\"cami_high_kmer_freq.png\", dpi=300)"
      ]
    },
    {
      "cell_type": "markdown",
      "metadata": {
        "id": "AXzh0Xu9Kl8L"
      },
      "source": [
        "# **Clasificadores**"
      ]
    },
    {
      "cell_type": "code",
      "execution_count": 21,
      "metadata": {
        "id": "qfH9lsooRgfw"
      },
      "outputs": [],
      "source": [
        "from sklearn.neural_network import MLPClassifier\n",
        "from sklearn.model_selection import train_test_split\n",
        "from sklearn.metrics import plot_confusion_matrix\n",
        "import sklearn.metrics as skm\n",
        "from sklearn.ensemble import RandomForestClassifier\n",
        "from sklearn.linear_model import LogisticRegression\n",
        "from sklearn.neighbors import KNeighborsClassifier\n",
        "from sklearn.neighbors import NearestNeighbors\n",
        "import matplotlib.pyplot as plt\n",
        "import numpy as np\n",
        "import pandas as pd\n",
        "from sklearn.metrics import confusion_matrix\n",
        "from sklearn.metrics import classification_report\n",
        "from sklearn import datasets, metrics\n",
        "import collections, numpy\n",
        "import seaborn as sns\n",
        "import matplotlib.pyplot as plt"
      ]
    },
    {
      "cell_type": "code",
      "execution_count": 22,
      "metadata": {
        "colab": {
          "base_uri": "https://localhost:8080/"
        },
        "id": "SMq7RwweKr0H",
        "outputId": "093b1d6b-92d3-4a71-84b2-e8251a995b0e"
      },
      "outputs": [
        {
          "output_type": "stream",
          "name": "stdout",
          "text": [
            "X_train size:  15572\n",
            "X_test size:  3893\n",
            "\n",
            "Total clases en data train:\n",
            " Counter({1: 4300, 4: 3361, 3: 2359, 2: 1976, 6: 1519, 8: 598, 11: 273, 14: 193, 5: 187, 10: 114, 22: 87, 12: 73, 17: 68, 21: 67, 24: 64, 16: 62, 19: 57, 23: 54, 9: 44, 18: 34, 15: 22, 13: 20, 7: 18, 20: 16, 25: 6})\n",
            "Total clases en data test:\n",
            " Counter({1: 1047, 4: 827, 3: 587, 2: 512, 6: 379, 8: 162, 11: 67, 5: 50, 14: 40, 10: 35, 24: 23, 22: 22, 12: 21, 21: 20, 17: 16, 16: 15, 19: 15, 23: 15, 9: 12, 18: 7, 13: 7, 20: 6, 7: 5, 15: 3})\n"
          ]
        }
      ],
      "source": [
        "x=df_numeric_norm.drop(['Seq_id','Tax_id'], axis=1)\n",
        "y=df_numeric_norm['Tax_id'].values\n",
        "X_train, X_test, y_train, y_test = train_test_split(x, y, test_size=test_size)\n",
        "print('X_train size: ',len(X_train))\n",
        "print('X_test size: ',len(X_test))\n",
        "print()\n",
        "print(\"Total clases en data train:\\n\",collections.Counter(y_train));\n",
        "print(\"Total clases en data test:\\n\",collections.Counter(y_test));"
      ]
    },
    {
      "cell_type": "code",
      "execution_count": 23,
      "metadata": {
        "id": "aO1_VUOZakCw"
      },
      "outputs": [],
      "source": [
        "def runClassifier(modelo, name):\n",
        "  modelo.fit(X_train, y_train)\n",
        "  y_pred= modelo.predict(X_test)\n",
        "  df_result=pd.DataFrame(skm.classification_report(y_test,y_pred,output_dict=True))\n",
        "  df_result=df_result.T\n",
        "  labels=[]\n",
        "  labels.append(1)\n",
        "  for i in range(len(collections.Counter(y_test))+1):\n",
        "    i+=1\n",
        "    if i%20==0:\n",
        "      labels.append(i)\n",
        "    else:  \n",
        "      labels.append('')\n",
        "  #print(df_result)\n",
        "  #print(confusion_matrix(y_test, y_pred))\n",
        "  plot_confusion_matrix(modelo, X_test, y_test,include_values=False,\n",
        "                      xticks_rotation='vertical',normalize='pred', \n",
        "                      cmap='Blues',colorbar=True,values_format='.2',display_labels=labels) \n",
        "  #metrics.plot_roc_curve(modelo, X_test, y_test) \n",
        "  plt.savefig(CAMI_dataset+'_'+name+\"_confusionMatrix.svg\",format='svg')\n",
        "  return df_result"
      ]
    },
    {
      "cell_type": "markdown",
      "metadata": {
        "id": "mtaM11WsRVCp"
      },
      "source": [
        "**KNN**"
      ]
    },
    {
      "cell_type": "code",
      "execution_count": 24,
      "metadata": {
        "colab": {
          "base_uri": "https://localhost:8080/",
          "height": 0
        },
        "id": "LmWPguePRE0o",
        "outputId": "5e5492e5-61c7-4b44-9a1b-d95fe9e90ba4"
      },
      "outputs": [
        {
          "output_type": "stream",
          "name": "stderr",
          "text": [
            "/usr/local/lib/python3.7/dist-packages/sklearn/metrics/_classification.py:1318: UndefinedMetricWarning: Precision and F-score are ill-defined and being set to 0.0 in labels with no predicted samples. Use `zero_division` parameter to control this behavior.\n",
            "  _warn_prf(average, modifier, msg_start, len(result))\n",
            "/usr/local/lib/python3.7/dist-packages/sklearn/metrics/_classification.py:1318: UndefinedMetricWarning: Precision and F-score are ill-defined and being set to 0.0 in labels with no predicted samples. Use `zero_division` parameter to control this behavior.\n",
            "  _warn_prf(average, modifier, msg_start, len(result))\n",
            "/usr/local/lib/python3.7/dist-packages/sklearn/metrics/_classification.py:1318: UndefinedMetricWarning: Precision and F-score are ill-defined and being set to 0.0 in labels with no predicted samples. Use `zero_division` parameter to control this behavior.\n",
            "  _warn_prf(average, modifier, msg_start, len(result))\n",
            "/usr/local/lib/python3.7/dist-packages/sklearn/utils/deprecation.py:87: FutureWarning: Function plot_confusion_matrix is deprecated; Function `plot_confusion_matrix` is deprecated in 1.0 and will be removed in 1.2. Use one of the class methods: ConfusionMatrixDisplay.from_predictions or ConfusionMatrixDisplay.from_estimator.\n",
            "  warnings.warn(msg, category=FutureWarning)\n"
          ]
        },
        {
          "output_type": "display_data",
          "data": {
            "text/plain": [
              "<Figure size 432x288 with 2 Axes>"
            ],
            "image/png": "[encoded data removed]"
          },
          "metadata": {
            "needs_background": "light"
          }
        }
      ],
      "source": [
        "knn = KNeighborsClassifier(n_jobs=-1)\n",
        "df_knn=runClassifier(knn,'knn')"
      ]
    },
    {
      "cell_type": "markdown",
      "metadata": {
        "id": "j8Mq-Xo3SqWs"
      },
      "source": [
        "**Random Forest classifier**"
      ]
    },
    {
      "cell_type": "code",
      "execution_count": 25,
      "metadata": {
        "colab": {
          "base_uri": "https://localhost:8080/",
          "height": 0
        },
        "id": "SD_b3eRISp8f",
        "outputId": "680bdc32-f82f-4802-9af2-bf33857104f6"
      },
      "outputs": [
        {
          "output_type": "stream",
          "name": "stderr",
          "text": [
            "/usr/local/lib/python3.7/dist-packages/sklearn/metrics/_classification.py:1318: UndefinedMetricWarning: Precision and F-score are ill-defined and being set to 0.0 in labels with no predicted samples. Use `zero_division` parameter to control this behavior.\n",
            "  _warn_prf(average, modifier, msg_start, len(result))\n",
            "/usr/local/lib/python3.7/dist-packages/sklearn/metrics/_classification.py:1318: UndefinedMetricWarning: Precision and F-score are ill-defined and being set to 0.0 in labels with no predicted samples. Use `zero_division` parameter to control this behavior.\n",
            "  _warn_prf(average, modifier, msg_start, len(result))\n",
            "/usr/local/lib/python3.7/dist-packages/sklearn/metrics/_classification.py:1318: UndefinedMetricWarning: Precision and F-score are ill-defined and being set to 0.0 in labels with no predicted samples. Use `zero_division` parameter to control this behavior.\n",
            "  _warn_prf(average, modifier, msg_start, len(result))\n",
            "/usr/local/lib/python3.7/dist-packages/sklearn/utils/deprecation.py:87: FutureWarning: Function plot_confusion_matrix is deprecated; Function `plot_confusion_matrix` is deprecated in 1.0 and will be removed in 1.2. Use one of the class methods: ConfusionMatrixDisplay.from_predictions or ConfusionMatrixDisplay.from_estimator.\n",
            "  warnings.warn(msg, category=FutureWarning)\n"
          ]
        },
        {
          "output_type": "display_data",
          "data": {
            "text/plain": [
              "<Figure size 432x288 with 2 Axes>"
            ],
            "image/png": "[encoded data removed]"
          },
          "metadata": {
            "needs_background": "light"
          }
        }
      ],
      "source": [
        "rf = RandomForestClassifier(n_jobs=-1)\n",
        "df_rf=runClassifier(rf,'rf')"
      ]
    },
    {
      "cell_type": "markdown",
      "metadata": {
        "id": "T5H1LsRCS1tW"
      },
      "source": [
        "**Logistic_Regression_classifier**"
      ]
    },
    {
      "cell_type": "code",
      "execution_count": 26,
      "metadata": {
        "colab": {
          "base_uri": "https://localhost:8080/",
          "height": 0
        },
        "id": "Vt9gTTlLS8af",
        "outputId": "656eb9a4-d5fd-4c51-b37c-bed3fafc68da"
      },
      "outputs": [
        {
          "output_type": "stream",
          "name": "stderr",
          "text": [
            "/usr/local/lib/python3.7/dist-packages/sklearn/metrics/_classification.py:1318: UndefinedMetricWarning: Precision and F-score are ill-defined and being set to 0.0 in labels with no predicted samples. Use `zero_division` parameter to control this behavior.\n",
            "  _warn_prf(average, modifier, msg_start, len(result))\n",
            "/usr/local/lib/python3.7/dist-packages/sklearn/metrics/_classification.py:1318: UndefinedMetricWarning: Precision and F-score are ill-defined and being set to 0.0 in labels with no predicted samples. Use `zero_division` parameter to control this behavior.\n",
            "  _warn_prf(average, modifier, msg_start, len(result))\n",
            "/usr/local/lib/python3.7/dist-packages/sklearn/metrics/_classification.py:1318: UndefinedMetricWarning: Precision and F-score are ill-defined and being set to 0.0 in labels with no predicted samples. Use `zero_division` parameter to control this behavior.\n",
            "  _warn_prf(average, modifier, msg_start, len(result))\n",
            "/usr/local/lib/python3.7/dist-packages/sklearn/utils/deprecation.py:87: FutureWarning: Function plot_confusion_matrix is deprecated; Function `plot_confusion_matrix` is deprecated in 1.0 and will be removed in 1.2. Use one of the class methods: ConfusionMatrixDisplay.from_predictions or ConfusionMatrixDisplay.from_estimator.\n",
            "  warnings.warn(msg, category=FutureWarning)\n"
          ]
        },
        {
          "output_type": "display_data",
          "data": {
            "text/plain": [
              "<Figure size 432x288 with 2 Axes>"
            ],
            "image/png": "[encoded data removed]"
          },
          "metadata": {
            "needs_background": "light"
          }
        }
      ],
      "source": [
        "LR = LogisticRegression(n_jobs=-1)\n",
        "df_lr=runClassifier(LR,'lr')"
      ]
    },
    {
      "cell_type": "markdown",
      "metadata": {
        "id": "mk_DmZfpYEUV"
      },
      "source": [
        "**Neuronal Network**"
      ]
    },
    {
      "cell_type": "code",
      "execution_count": 27,
      "metadata": {
        "id": "Rwb800t0X9CV",
        "colab": {
          "base_uri": "https://localhost:8080/",
          "height": 0
        },
        "outputId": "500aa641-f04e-4707-d474-b3e9c758eb9c"
      },
      "outputs": [
        {
          "output_type": "stream",
          "name": "stderr",
          "text": [
            "/usr/local/lib/python3.7/dist-packages/sklearn/neural_network/_multilayer_perceptron.py:696: ConvergenceWarning: Stochastic Optimizer: Maximum iterations (200) reached and the optimization hasn't converged yet.\n",
            "  ConvergenceWarning,\n",
            "/usr/local/lib/python3.7/dist-packages/sklearn/metrics/_classification.py:1318: UndefinedMetricWarning: Precision and F-score are ill-defined and being set to 0.0 in labels with no predicted samples. Use `zero_division` parameter to control this behavior.\n",
            "  _warn_prf(average, modifier, msg_start, len(result))\n",
            "/usr/local/lib/python3.7/dist-packages/sklearn/metrics/_classification.py:1318: UndefinedMetricWarning: Precision and F-score are ill-defined and being set to 0.0 in labels with no predicted samples. Use `zero_division` parameter to control this behavior.\n",
            "  _warn_prf(average, modifier, msg_start, len(result))\n",
            "/usr/local/lib/python3.7/dist-packages/sklearn/metrics/_classification.py:1318: UndefinedMetricWarning: Precision and F-score are ill-defined and being set to 0.0 in labels with no predicted samples. Use `zero_division` parameter to control this behavior.\n",
            "  _warn_prf(average, modifier, msg_start, len(result))\n",
            "/usr/local/lib/python3.7/dist-packages/sklearn/utils/deprecation.py:87: FutureWarning: Function plot_confusion_matrix is deprecated; Function `plot_confusion_matrix` is deprecated in 1.0 and will be removed in 1.2. Use one of the class methods: ConfusionMatrixDisplay.from_predictions or ConfusionMatrixDisplay.from_estimator.\n",
            "  warnings.warn(msg, category=FutureWarning)\n"
          ]
        },
        {
          "output_type": "display_data",
          "data": {
            "text/plain": [
              "<Figure size 432x288 with 2 Axes>"
            ],
            "image/png": "[encoded data removed]"
          },
          "metadata": {
            "needs_background": "light"
          }
        }
      ],
      "source": [
        "mlp=MLPClassifier()\n",
        "df_nn=runClassifier(mlp,'nn')"
      ]
    },
    {
      "cell_type": "markdown",
      "metadata": {
        "id": "IVeo4lmRTC61"
      },
      "source": [
        "# **F1-score plot**"
      ]
    },
    {
      "cell_type": "code",
      "execution_count": 28,
      "metadata": {
        "id": "HoxFROzGfTFp"
      },
      "outputs": [],
      "source": [
        "def plotF1_score(df_in,name,color):\n",
        "  df_plot=df_in.drop(['accuracy','macro avg','weighted avg'])\n",
        "  x=df_plot.index\n",
        "  #df_plot=df_plot.sort_values(by=['support'])\n",
        "  #print(df_plot)\n",
        "\n",
        "  y=df_plot['f1-score'].sort_values()\n",
        "  plt.plot(x,y,label=name,color=color)"
      ]
    },
    {
      "cell_type": "code",
      "execution_count": 29,
      "metadata": {
        "colab": {
          "base_uri": "https://localhost:8080/",
          "height": 297
        },
        "id": "Dh1y9PRMj7Gz",
        "outputId": "75391fd6-2181-4805-9c57-676455e10c99"
      },
      "outputs": [
        {
          "output_type": "display_data",
          "data": {
            "text/plain": [
              "<Figure size 432x288 with 1 Axes>"
            ],
            "image/png": "[encoded data removed]"
          },
          "metadata": {
            "needs_background": "light"
          }
        }
      ],
      "source": [
        "plotF1_score(df_knn,'KNN',colores[0])\n",
        "plotF1_score(df_rf,'RF',colores[1])\n",
        "#plotF1_score(df_lr,'LR',colores[2])\n",
        "plotF1_score(df_nn,'NN',colores[3])\n",
        "plt.grid()\n",
        "plt.xlabel('Total Class')\n",
        "plt.ylabel('F1-score')\n",
        "plt.legend()\n",
        "plt.tight_layout()\n",
        "#plt.savefig(CAMI_dataset+\"_f1_support.png\", dpi=300)"
      ]
    },
    {
      "cell_type": "code",
      "execution_count": 30,
      "metadata": {
        "id": "zEIV7TZ6sV2y"
      },
      "outputs": [],
      "source": [
        "def plotF1andsupp(df_in,name,color):\n",
        "  df_plot=df_in.drop(['accuracy','macro avg','weighted avg'])\n",
        "  x=df_plot.index\n",
        "  df_plot=df_plot.sort_values(by=['f1-score'])\n",
        "  y=df_plot['f1-score']\n",
        "  s=df_plot['support']\n",
        "  s=500*(s/max(s))\n",
        "  plt.scatter(x,y,s=s,color=color)\n"
      ]
    },
    {
      "cell_type": "code",
      "execution_count": 31,
      "metadata": {
        "colab": {
          "base_uri": "https://localhost:8080/",
          "height": 297
        },
        "id": "_CoYPIp-s9jM",
        "outputId": "553d3cce-0c3e-412b-893d-8622a51f467c"
      },
      "outputs": [
        {
          "output_type": "display_data",
          "data": {
            "text/plain": [
              "<Figure size 432x288 with 1 Axes>"
            ],
            "image/png": "[encoded data removed]"
          },
          "metadata": {
            "needs_background": "light"
          }
        }
      ],
      "source": [
        "plotF1andsupp(df_knn,'KNN',colores[0])\n",
        "plotF1_score(df_knn,'KNN',colores[0])\n",
        "plotF1andsupp(df_rf,'RF',colores[1])\n",
        "plotF1_score(df_rf,'RF',colores[1])\n",
        "#plotF1andsupp(df_lr,'LR',colores[2])\n",
        "#plotF1_score(df_lr,'LR',colores[2])\n",
        "plotF1andsupp(df_nn,'NN',colores[3])\n",
        "plotF1_score(df_nn,'NN',colores[3])\n",
        "plt.grid()\n",
        "plt.xlabel('Total_class')\n",
        "plt.ylabel('F1-score')\n",
        "plt.legend()\n",
        "plt.tight_layout()\n",
        "#plt.savefig(CAMI_dataset+\"_f1andsize.svg\", format='svg')"
      ]
    },
    {
      "cell_type": "code",
      "execution_count": 32,
      "metadata": {
        "id": "MqSMnqnI1R6q"
      },
      "outputs": [],
      "source": [
        "def histF1score(df_in,name):\n",
        "  df_plot=df_in.drop(['accuracy','macro avg','weighted avg'])\n",
        "  df_plot['f1-score'].plot.hist(bins=12, alpha=0.5, label=name)"
      ]
    },
    {
      "cell_type": "code",
      "execution_count": 33,
      "metadata": {
        "colab": {
          "base_uri": "https://localhost:8080/",
          "height": 296
        },
        "id": "bCGMp0xfz6NL",
        "outputId": "ab16493e-c2e3-43d0-cc6c-5b3b6106ab97"
      },
      "outputs": [
        {
          "output_type": "execute_result",
          "data": {
            "text/plain": [
              "<matplotlib.legend.Legend at 0x7f66d2a97410>"
            ]
          },
          "metadata": {},
          "execution_count": 33
        },
        {
          "output_type": "display_data",
          "data": {
            "text/plain": [
              "<Figure size 432x288 with 1 Axes>"
            ],
            "image/png": "[encoded data removed]"
          },
          "metadata": {
            "needs_background": "light"
          }
        }
      ],
      "source": [
        "histF1score(df_knn,'knn')\n",
        "histF1score(df_rf,'rf')\n",
        "#histF1score(df_lr,'lr')\n",
        "histF1score(df_nn,'nn')\n",
        "plt.grid()\n",
        "plt.xlabel('F1-score')\n",
        "#plt.ylabel('')\n",
        "plt.legend()\n",
        "#plt.savefig(CAMI_dataset+\"_f1Hist.svg\", format='svg')"
      ]
    },
    {
      "cell_type": "code",
      "execution_count": 34,
      "metadata": {
        "id": "B9I8zgtz1Bwi"
      },
      "outputs": [],
      "source": [
        "def plotF1andtaxid(df_in,name):\n",
        "  df_plot=df_in.drop(['accuracy','macro avg','weighted avg'])\n",
        "  #df_plot=df_plot.sort_values(by=['f1-score'],ascending=True)\n",
        "  x=df_plot.index\n",
        "  y=df_plot['f1-score']\n",
        "  s=df_plot['support']\n",
        "  s=1000*(s/max(s))\n",
        "  plt.scatter(y,x,label=name,marker='.',s=s)"
      ]
    },
    {
      "cell_type": "code",
      "execution_count": 35,
      "metadata": {
        "colab": {
          "base_uri": "https://localhost:8080/",
          "height": 311
        },
        "id": "X5a2vj_r1OFb",
        "outputId": "be7c9183-9a59-4375-c1a4-44344ae184b3"
      },
      "outputs": [
        {
          "output_type": "display_data",
          "data": {
            "text/plain": [
              "<Figure size 432x288 with 1 Axes>"
            ],
            "image/png": "[encoded data removed]"
          },
          "metadata": {
            "needs_background": "light"
          }
        }
      ],
      "source": [
        "plotF1andtaxid(df_knn,'KNN')\n",
        "plotF1andtaxid(df_rf,'RF')\n",
        "#plotF1andtaxid(df_lr,'lr')\n",
        "plotF1andtaxid(df_nn,'NN')\n",
        "labels=[]\n",
        "locs=[]\n",
        "labels.append(1)\n",
        "for i in range(len(df_nn['support'])):\n",
        "  locs.append(i)\n",
        "  i+=1\n",
        "  if i%20==0: \n",
        "    labels.append(i)\n",
        "  else:  \n",
        "    labels.append('')\n",
        "#locs, labels2 =plt.xticks() \n",
        "plt.yticks(locs,labels) \n",
        "plt.tight_layout()\n",
        "#plt.grid()\n",
        "plt.ylabel('Taxid')\n",
        "plt.xlabel('F1-score')\n",
        "plt.legend()\n",
        "plt.savefig(CAMI_dataset+\"_taxId_f1andsize.svg\", format='svg')"
      ]
    }
  ],
  "metadata": {
    "colab": {
      "name": "ML_kmerBin.ipynb",
      "provenance": [],
      "authorship_tag": "ABX9TyPtSUtdM6jgOWbNQxGbeX40",
      "include_colab_link": true
    },
    "kernelspec": {
      "display_name": "Python 3",
      "name": "python3"
    }
  },
  "nbformat": 4,
  "nbformat_minor": 0
}